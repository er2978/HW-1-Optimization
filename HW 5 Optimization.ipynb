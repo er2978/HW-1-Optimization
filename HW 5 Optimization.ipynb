{
 "cells": [
  {
   "cell_type": "code",
   "execution_count": 24,
   "id": "7717c754",
   "metadata": {},
   "outputs": [],
   "source": [
    "import numpy as np\n",
    "import matplotlib.pyplot as plt\n",
    "import colorcet as cc \n",
    "from numpy.linalg import norm, inv"
   ]
  },
  {
   "cell_type": "code",
   "execution_count": 41,
   "id": "0f3892ee",
   "metadata": {},
   "outputs": [],
   "source": [
    "def LennJones(X_N): #write the LennJones function\n",
    "    f = 0\n",
    "    for i in range(len(X_N)):\n",
    "        f +=  4*((1 /(np.linalg.norm(X_N[i, :] - np.delete(X_N, i, 0), axis = 1)**12) - \n",
    "                  (1 /(np.linalg.norm(X_N[i, :] - np.delete(X_N, i, 0), axis = 1)**6)))).sum()\n",
    "    return f"
   ]
  },
  {
   "cell_type": "code",
   "execution_count": 47,
   "id": "4dfd6548",
   "metadata": {},
   "outputs": [],
   "source": [
    "def Grad_f(X_N): #get the gradient\n",
    "    grad = np.zeros_like(X_N)\n",
    "    for i in range(len(X_N)):\n",
    "        gradX_i = np.zeros_like(X_N[i, :])\n",
    "        for j in range(len(X_N)):\n",
    "            if j != i:\n",
    "                gradX_i += 4*(-12 * (X_N[i, :] - X_N[j, :]) / (np.linalg.norm(X_N[i, :] - X_N[j, :]) ** 14) \n",
    "                            + 6 * (X_N[i, :] - X_N[j, :]) / (np.linalg.norm(X_N[i, :] - X_N[j, :]) ** 8))\n",
    "                grad[i, :] = gradX_i\n",
    "\n",
    "    return grad"
   ]
  },
  {
   "cell_type": "code",
   "execution_count": 51,
   "id": "294434c2",
   "metadata": {},
   "outputs": [],
   "source": [
    "def backTr(alpha, X_N, d): #backtrack\n",
    "    X_1 = np.zeros_like(X_N)\n",
    "    FN = LennJones(X_N)\n",
    "    X_1 = X_N + alpha * d\n",
    "    FN_1 =LennJones(X_1)\n",
    "    while FN < FN_1:\n",
    "        alpha = alpha*beta\n",
    "        X_1 = X_N + alpha * d\n",
    "        FN_1 =LennJones(X_1)\n",
    "    return alpha"
   ]
  },
  {
   "cell_type": "code",
   "execution_count": 52,
   "id": "b820a523",
   "metadata": {},
   "outputs": [],
   "source": [
    "def GradDescLJ(X_0): #gradient descent\n",
    "    X_N = X_0\n",
    "    F_vec = [LennJones(X_N)]\n",
    "    i = 0\n",
    "    d = -Grad_f(X_N)\n",
    "    while( norm(d) >= tol and i < maxIter ):\n",
    "        d = -Grad_f(X_N)\n",
    "        alpha = backTr(alpha0, X_N, d)\n",
    "        X_N = X_N + alpha*d\n",
    "        F_vec.append( LennJones(X_N) )\n",
    "        i += 1\n",
    "    return X_N, F_vec, i"
   ]
  },
  {
   "cell_type": "code",
   "execution_count": 116,
   "id": "8187bc49",
   "metadata": {},
   "outputs": [
    {
     "name": "stdout",
     "output_type": "stream",
     "text": [
      "X_0 = [[-0.63379767 -0.45045616]\n",
      " [-0.59075775 -1.30212989]\n",
      " [-1.05863511 -0.46100638]]\n",
      "X_Final = [[ 3.24479828e+06  8.08868265e+04]\n",
      " [ 3.80320537e+01 -3.49882192e+02]\n",
      " [-3.24483860e+06 -8.05391579e+04]]\n",
      "iterations = 2\n"
     ]
    },
    {
     "data": {
      "text/plain": [
       "Text(0, 0.5, 'y')"
      ]
     },
     "execution_count": 116,
     "metadata": {},
     "output_type": "execute_result"
    },
    {
     "data": {
      "image/png": "[encoded data removed]",
      "text/plain": [
       "<Figure size 360x360 with 1 Axes>"
      ]
     },
     "metadata": {
      "needs_background": "light"
     },
     "output_type": "display_data"
    }
   ],
   "source": [
    "N = 3 #plot N=3\n",
    "maxIter = 1000\n",
    "alpha0 = 1\n",
    "beta = 0.8\n",
    "tol = 1e-12\n",
    "X_0 = np.random.randn(N, 2)\n",
    "X_Final, F_Final, i_Final = GradDescLJ(X_0) \n",
    "print(\"X_0 =\", X_0) \n",
    "print(\"X_Final =\", X_Final) \n",
    "print(\"iterations =\", i_Final)\n",
    "\n",
    "plt.figure(figsize = (5,5))\n",
    "plt.scatter(X_Final[:, 0], X_Final[:, 1], marker = 'o', s = 50, c = '#32a87f')\n",
    "plt.axis('equal')\n",
    "plt.title('Lennard Jones Potential Between N Particles') \n",
    "plt.xlabel('x')\n",
    "plt.ylabel('y')"
   ]
  },
  {
   "cell_type": "code",
   "execution_count": 115,
   "id": "941b6f01",
   "metadata": {},
   "outputs": [
    {
     "name": "stdout",
     "output_type": "stream",
     "text": [
      "X_0 = [[-1.89786135 -0.12895674]\n",
      " [-1.78458176  0.16089344]\n",
      " [-1.6110999   0.14261074]\n",
      " [ 0.59137006  0.12628185]\n",
      " [ 0.40761035  0.98334828]]\n",
      "X_Final = [[-7.41365224e+07 -1.79837821e+08]\n",
      " [-3.44562979e+11  3.64936030e+10]\n",
      " [ 3.44637116e+11 -3.63137652e+10]\n",
      " [ 4.35510376e+01 -2.01118585e+02]\n",
      " [-4.29181571e+01  2.02151918e+02]]\n",
      "iterations = 2\n"
     ]
    },
    {
     "data": {
      "text/plain": [
       "Text(0, 0.5, 'y')"
      ]
     },
     "execution_count": 115,
     "metadata": {},
     "output_type": "execute_result"
    },
    {
     "data": {
      "image/png": "[encoded data removed]",
      "text/plain": [
       "<Figure size 360x360 with 1 Axes>"
      ]
     },
     "metadata": {
      "needs_background": "light"
     },
     "output_type": "display_data"
    }
   ],
   "source": [
    "N = 5 #plot N=5\n",
    "maxIter = 1000\n",
    "alpha0 = 1\n",
    "beta = 0.8\n",
    "tol = 1e-12\n",
    "X_0 = np.random.randn(N, 2)\n",
    "X_Final, F_Final, i_Final = GradDescLJ(X_0) \n",
    "print(\"X_0 =\", X_0) \n",
    "print(\"X_Final =\", X_Final) \n",
    "print(\"iterations =\", i_Final)\n",
    "\n",
    "plt.figure(figsize = (5,5))\n",
    "plt.scatter(X_Final[:, 0], X_Final[:, 1], marker = 'o', s = 50, c = '#32a87f')\n",
    "plt.axis('equal')\n",
    "plt.title('Lennard Jones Potential Between N Particles') \n",
    "plt.xlabel('x')\n",
    "plt.ylabel('y')"
   ]
  },
  {
   "cell_type": "code",
   "execution_count": 114,
   "id": "424deeb0",
   "metadata": {},
   "outputs": [
    {
     "name": "stdout",
     "output_type": "stream",
     "text": [
      "X_0 = [[-0.3074002   0.27519656]\n",
      " [ 0.27475573  0.63718155]\n",
      " [-0.66163344  0.12260802]\n",
      " [-0.78027023 -0.48392516]\n",
      " [ 0.5320178   0.82519621]\n",
      " [ 1.13424595 -0.27854887]\n",
      " [ 0.81099528 -0.72392623]]\n",
      "X_Final = [[ 1.05222241e+07  4.53161347e+06]\n",
      " [-1.10945568e+08 -8.10828470e+07]\n",
      " [-1.05227304e+07 -4.51089086e+06]\n",
      " [-4.74704087e+03 -2.39918382e+04]\n",
      " [ 1.10950827e+08  8.10861101e+07]\n",
      " [ 6.54746248e+04  9.02196818e+04]\n",
      " [-6.54796387e+04 -9.02132036e+04]]\n",
      "iterations = 2\n"
     ]
    },
    {
     "data": {
      "text/plain": [
       "Text(0, 0.5, 'y')"
      ]
     },
     "execution_count": 114,
     "metadata": {},
     "output_type": "execute_result"
    },
    {
     "data": {
      "image/png": "[encoded data removed]",
      "text/plain": [
       "<Figure size 360x360 with 1 Axes>"
      ]
     },
     "metadata": {
      "needs_background": "light"
     },
     "output_type": "display_data"
    }
   ],
   "source": [
    "N = 7 #plot n=7\n",
    "maxIter = 1000\n",
    "alpha0 = 1\n",
    "beta = 0.8\n",
    "tol = 1e-12\n",
    "X_0 = np.random.randn(N, 2)\n",
    "X_Final, F_Final, i_Final = GradDescLJ(X_0) \n",
    "print(\"X_0 =\", X_0) \n",
    "print(\"X_Final =\", X_Final) \n",
    "print(\"iterations =\", i_Final)\n",
    "\n",
    "plt.figure(figsize = (5,5))\n",
    "plt.scatter(X_Final[:, 0], X_Final[:, 1], marker = 'o', s = 50, c = '#32a87f')\n",
    "plt.axis('equal')\n",
    "plt.title('Lennard Jones Potential Between N Particles') \n",
    "plt.xlabel('x')\n",
    "plt.ylabel('y')"
   ]
  },
  {
   "cell_type": "code",
   "execution_count": 117,
   "id": "6e265ae3",
   "metadata": {},
   "outputs": [
    {
     "name": "stdout",
     "output_type": "stream",
     "text": [
      "X_0 = [[ 0.80691979 -2.41754717]\n",
      " [ 0.53981051 -2.09213826]\n",
      " [ 0.96077618 -0.78775563]\n",
      " [ 1.16538789  0.77407634]\n",
      " [ 1.43978711  0.56416244]\n",
      " [-0.30205205  0.01074482]\n",
      " [ 0.83611155 -0.17271339]\n",
      " [ 0.39235594 -1.28132863]\n",
      " [ 0.03866065 -0.7597934 ]\n",
      " [ 1.03684603  0.93332061]]\n",
      "X_Final = [[ 2.32710525e+06 -2.83502164e+06]\n",
      " [-2.32701516e+06  2.83453143e+06]\n",
      " [ 5.36426865e+03 -1.83363795e+04]\n",
      " [ 2.72577043e+10 -3.37863153e+10]\n",
      " [ 3.82207569e+07 -2.92522165e+07]\n",
      " [-1.43802936e+02  3.33270018e+02]\n",
      " [-3.97004159e+03  1.94302790e+04]\n",
      " [ 9.15324204e+03 -1.62291840e+04]\n",
      " [-1.05311733e+04  1.52238372e+04]\n",
      " [-2.72959251e+10  3.38155676e+10]]\n",
      "iterations = 2\n"
     ]
    },
    {
     "data": {
      "text/plain": [
       "Text(0, 0.5, 'y')"
      ]
     },
     "execution_count": 117,
     "metadata": {},
     "output_type": "execute_result"
    },
    {
     "data": {
      "image/png": "[encoded data removed]",
      "text/plain": [
       "<Figure size 360x360 with 1 Axes>"
      ]
     },
     "metadata": {
      "needs_background": "light"
     },
     "output_type": "display_data"
    }
   ],
   "source": [
    "N = 10 #plot N=10\n",
    "maxIter = 1000\n",
    "alpha0 = 1\n",
    "beta = 0.8\n",
    "tol = 1e-12\n",
    "X_0 = np.random.randn(N, 2)\n",
    "X_Final, F_Final, i_Final = GradDescLJ(X_0) \n",
    "print(\"X_0 =\", X_0) \n",
    "print(\"X_Final =\", X_Final) \n",
    "print(\"iterations =\", i_Final)\n",
    "\n",
    "plt.figure(figsize = (5,5))\n",
    "plt.scatter(X_Final[:, 0], X_Final[:, 1], marker = 'o', s = 50, c = '#32a87f')\n",
    "plt.axis('equal')\n",
    "plt.title('Lennard Jones Potential Between N Particles') \n",
    "plt.xlabel('x')\n",
    "plt.ylabel('y')"
   ]
  },
  {
   "cell_type": "code",
   "execution_count": 118,
   "id": "e6b660cc",
   "metadata": {},
   "outputs": [
    {
     "data": {
      "text/plain": [
       "'I couldnt draw the circles around the points without slowing it down massively so I just removed them'"
      ]
     },
     "execution_count": 118,
     "metadata": {},
     "output_type": "execute_result"
    }
   ],
   "source": [
    "'''I couldnt draw the circles around the points without slowing it down massively so I just removed them'''"
   ]
  }
 ],
 "metadata": {
  "kernelspec": {
   "display_name": "Python 3 (ipykernel)",
   "language": "python",
   "name": "python3"
  },
  "language_info": {
   "codemirror_mode": {
    "name": "ipython",
    "version": 3
   },
   "file_extension": ".py",
   "mimetype": "text/x-python",
   "name": "python",
   "nbconvert_exporter": "python",
   "pygments_lexer": "ipython3",
   "version": "3.9.7"
  }
 },
 "nbformat": 4,
 "nbformat_minor": 5
}
