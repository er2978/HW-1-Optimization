{
 "cells": [
  {
   "cell_type": "code",
   "execution_count": 343,
   "id": "88dff8d0",
   "metadata": {},
   "outputs": [],
   "source": [
    "import numpy as np\n",
    "import matplotlib.pyplot as plt\n",
    "from math import e\n",
    "from numpy.linalg import norm, inv"
   ]
  },
  {
   "cell_type": "code",
   "execution_count": 605,
   "id": "f968e1a5",
   "metadata": {},
   "outputs": [
    {
     "data": {
      "image/png": "[encoded data removed]",
      "text/plain": [
       "<Figure size 288x288 with 1 Axes>"
      ]
     },
     "metadata": {
      "needs_background": "light"
     },
     "output_type": "display_data"
    },
    {
     "name": "stdout",
     "output_type": "stream",
     "text": [
      "3.0 3.0 -0.11\n",
      "[6.         5.71177171 5.45123526 5.21573014 5.00285144 4.81042529\n",
      " 4.63648669 4.47925944 4.33713796 4.20867096 4.09254657 3.98757896\n",
      " 3.89269623 3.80692946 3.72940283 3.65932465 3.59597931 3.53871994\n",
      " 3.48696183 3.44017644 3.39788601 3.35965867 3.32510407 3.29386934\n",
      " 3.26563552 3.2401143  3.21704505 3.19619221 3.17734283 3.16030442\n",
      " 3.144903   3.13098128 3.11839711 3.10702198 3.09673973 3.08744535\n",
      " 3.07904394 3.07144971 3.0645851  3.05838002 3.05277109 3.04770105\n",
      " 3.04311812 3.0389755  3.03523089 3.03184604 3.0287864  3.02602071\n",
      " 3.02352074 3.02126096 3.01921829 3.01737187 3.01570285 3.01419418\n",
      " 3.01283046 3.01159776 3.01048349 3.00947628 3.00856584 3.00774286\n",
      " 3.00699896 3.00632653 3.0057187  3.00516927 3.00467263 3.0042237\n",
      " 3.0038179  3.00345109 3.00311952 3.00281981 3.0025489  3.00230401\n",
      " 3.00208265 3.00188256 3.00170169 3.0015382  3.00139041 3.00125683\n",
      " 3.00113608 3.00102693 3.00092826 3.00083908 3.00075846 3.00068559\n",
      " 3.00061972 3.00056018 3.00050636 3.00045771 3.00041374 3.00037399\n",
      " 3.00033806 3.00030558 3.00027622 3.00024968 3.00022569 3.00020401\n",
      " 3.00018441 3.00016669 3.00015068 3.0001362 ]\n"
     ]
    }
   ],
   "source": [
    "def func(xi, c1, c2, c3):\n",
    "    return c1 + c2*e**(c3*x)\n",
    "N = 100\n",
    "yi = func(xi, c1, c2, c3)\n",
    "c_0 = np.array([3, 3, -0.11])\n",
    "c1 = c_0[0]\n",
    "c2 = c_0[1]\n",
    "c3 = c_0[2]\n",
    "\n",
    "xi = np.linspace(0, N, N)\n",
    "\n",
    "plt.figure(figsize=(4,4))\n",
    "plt.scatter(x, yi, s = 5, c = \"#6c25be\", marker = \"*\")\n",
    "plt.xlabel(\"x\")\n",
    "plt.ylabel(\"y\")\n",
    "plt.show()\n",
    "print(c1, c2, c3)\n",
    "print(yi)"
   ]
  },
  {
   "cell_type": "code",
   "execution_count": 606,
   "id": "4995290a",
   "metadata": {},
   "outputs": [],
   "source": [
    "def computeDf( c , xi ):\n",
    "    Df = np.zeros( ( N, len(c) ) )\n",
    "    Df[:, 0] = 1\n",
    "    Df[:, 1] = e**(c3*xi)\n",
    "    Df[:, 2] = xi*c2*e**(c3*xi)\n",
    "    return Df"
   ]
  },
  {
   "cell_type": "code",
   "execution_count": 607,
   "id": "09f22511",
   "metadata": {},
   "outputs": [
    {
     "name": "stdout",
     "output_type": "stream",
     "text": [
      "parameters found: [ 2.99999689  3.00001532 -0.10000163]\n",
      "\n",
      "Number of iterations done 5\n",
      "Residuals: [-1.22105252e-05 -6.26630473e-06 -1.32290297e-06  2.75712142e-06\n",
      "  6.09403826e-06  8.79297665e-06  1.09457242e-05  1.26323204e-05\n",
      "  1.39224662e-05  1.48767727e-05  1.55478634e-05  1.59813505e-05\n",
      "  1.62166955e-05  1.62879709e-05  1.62245309e-05  1.60516034e-05\n",
      "  1.57908127e-05  1.54606381e-05  1.50768193e-05  1.46527121e-05\n",
      "  1.41996008e-05  1.37269737e-05  1.32427633e-05  1.27535581e-05\n",
      "  1.22647874e-05  1.17808836e-05  1.13054231e-05  1.08412504e-05\n",
      "  1.03905852e-05  9.95511687e-06  9.53608512e-06  9.13435133e-06\n",
      "  8.75045962e-06  8.38468988e-06  8.03710352e-06  7.70758286e-06\n",
      "  7.39586500e-06  7.10157079e-06  6.82422961e-06  6.56330043e-06\n",
      "  6.31818969e-06  6.08826639e-06  5.87287477e-06  5.67134489e-06\n",
      "  5.48300138e-06  5.30717071e-06  5.14318705e-06  4.99039699e-06\n",
      "  4.84816335e-06  4.71586803e-06  4.59291427e-06  4.47872825e-06\n",
      "  4.37276017e-06  4.27448495e-06  4.18340253e-06  4.09903796e-06\n",
      "  4.02094112e-06  3.94868641e-06  3.88187213e-06  3.82011985e-06\n",
      "  3.76307363e-06  3.71039920e-06  3.66178309e-06  3.61693171e-06\n",
      "  3.57557040e-06  3.53744256e-06  3.50230866e-06  3.46994534e-06\n",
      "  3.44014454e-06  3.41271261e-06  3.38746944e-06  3.36424767e-06\n",
      "  3.34289190e-06  3.32325791e-06  3.30521200e-06  3.28863025e-06\n",
      "  3.27339788e-06  3.25940868e-06  3.24656436e-06  3.23477407e-06\n",
      "  3.22395384e-06  3.21402609e-06  3.20491922e-06  3.19656712e-06\n",
      "  3.18890883e-06  3.18188813e-06  3.17545320e-06  3.16955628e-06\n",
      "  3.16415339e-06  3.15920403e-06  3.15467094e-06  3.15051980e-06\n",
      "  3.14671907e-06  3.14323974e-06  3.14005513e-06  3.13714072e-06\n",
      "  3.13447400e-06  3.13203427e-06  3.12980252e-06  3.12776132e-06]\n"
     ]
    }
   ],
   "source": [
    "def GaussNewton(c0, xi, yi):\n",
    "    maxIter = 1000\n",
    "    tol = 0.01\n",
    "    Df = computeDf( c_0, xi )\n",
    "    f = func(xi, *c_0.T)\n",
    "    res = yi - f\n",
    "    i = 1\n",
    "    c= c_0\n",
    "    while(norm(Df.T @ res) > tol and i < maxIter):\n",
    "        c = c + ( ( inv(Df.T @ Df) ) @  Df.T @ (np.subtract( yi, f ) ) ) \n",
    "        Df = computeDf( c , xi )\n",
    "        f = func(xi, *c.T)\n",
    "        res = yi - f\n",
    "        i += 1\n",
    "    return c, i, res\n",
    "c, i, res = GaussNewton(c_0, xi, yi)\n",
    "print( 'parameters found:', c )\n",
    "print( \"\\nNumber of iterations done\", i )\n",
    "print(\"Residuals:\", res)"
   ]
  },
  {
   "cell_type": "code",
   "execution_count": 581,
   "id": "736aa29e",
   "metadata": {},
   "outputs": [
    {
     "name": "stdout",
     "output_type": "stream",
     "text": [
      "[[6.09089151 5.71370361 5.46712667 5.23701749 5.07206743 4.82224244\n",
      "  4.71689744 4.48577704 4.4271564  4.22674256 4.09472773 4.07834687\n",
      "  3.93992306 3.82546648 3.75951984 3.67141782 3.6580398  3.61791313\n",
      "  3.57736939 3.49935148 3.46727365 3.36682589 3.34522896 3.3151998\n",
      "  3.33475158 3.28269315 3.27918718 3.20562212 3.26913826 3.18283432\n",
      "  3.23150035 3.21952273 3.16678586 3.14443381 3.18652502 3.14363889\n",
      "  3.11232276 3.13314642 3.11375177 3.15468058 3.06933851 3.10409602\n",
      "  3.09588721 3.06835773 3.08521909 3.11910897 3.10578629 3.09447978\n",
      "  3.05664504 3.08614414 3.08742411 3.10504345 3.04317161 3.02796317\n",
      "  3.01532135 3.04041784 3.10462664 3.08465981 3.08485949 3.04163352\n",
      "  3.07447903 3.08422012 3.05235361 3.02941455 3.04937698 3.05394602\n",
      "  3.04902289 3.02741286 3.09619447 3.0297737  3.04872473 3.02372725\n",
      "  3.09341968 3.06353    3.0947204  3.03270717 3.1000117  3.04053515\n",
      "  3.05820322 3.0069585  3.08278426 3.01482825 3.0048002  3.01359044\n",
      "  3.00581056 3.02652838 3.06926123 3.05661445 3.06361902 3.04734119\n",
      "  3.00808744 3.03061747 3.02784527 3.02370894 3.02516535 3.09155567\n",
      "  3.02642644 3.01524221 3.08006506 3.09419052]]\n"
     ]
    },
    {
     "data": {
      "image/png": "[encoded data removed]",
      "text/plain": [
       "<Figure size 288x288 with 1 Axes>"
      ]
     },
     "metadata": {
      "needs_background": "light"
     },
     "output_type": "display_data"
    }
   ],
   "source": [
    "noise = [0.1*np.random.rand(N)]\n",
    "yiNew = (yi + noise)\n",
    "print(yiNew)\n",
    "plt.figure(figsize=(4,4))\n",
    "plt.scatter(xi, yiNew, s = 5, c = \"#6c25be\", marker = \"*\")\n",
    "plt.xlabel(\"x\")\n",
    "plt.ylabel(\"y\")\n",
    "plt.show()"
   ]
  },
  {
   "cell_type": "code",
   "execution_count": 608,
   "id": "8359330e",
   "metadata": {},
   "outputs": [
    {
     "name": "stdout",
     "output_type": "stream",
     "text": [
      "parameters found: [ 2.99999689  3.00001532 -0.10000163]\n",
      "\n",
      "Number of iterations done 5\n",
      "Residuals: [-1.22105252e-05 -6.26630473e-06 -1.32290297e-06  2.75712142e-06\n",
      "  6.09403826e-06  8.79297665e-06  1.09457242e-05  1.26323204e-05\n",
      "  1.39224662e-05  1.48767727e-05  1.55478634e-05  1.59813505e-05\n",
      "  1.62166955e-05  1.62879709e-05  1.62245309e-05  1.60516034e-05\n",
      "  1.57908127e-05  1.54606381e-05  1.50768193e-05  1.46527121e-05\n",
      "  1.41996008e-05  1.37269737e-05  1.32427633e-05  1.27535581e-05\n",
      "  1.22647874e-05  1.17808836e-05  1.13054231e-05  1.08412504e-05\n",
      "  1.03905852e-05  9.95511687e-06  9.53608512e-06  9.13435133e-06\n",
      "  8.75045962e-06  8.38468988e-06  8.03710352e-06  7.70758286e-06\n",
      "  7.39586500e-06  7.10157079e-06  6.82422961e-06  6.56330043e-06\n",
      "  6.31818969e-06  6.08826639e-06  5.87287477e-06  5.67134489e-06\n",
      "  5.48300138e-06  5.30717071e-06  5.14318705e-06  4.99039699e-06\n",
      "  4.84816335e-06  4.71586803e-06  4.59291427e-06  4.47872825e-06\n",
      "  4.37276017e-06  4.27448495e-06  4.18340253e-06  4.09903796e-06\n",
      "  4.02094112e-06  3.94868641e-06  3.88187213e-06  3.82011985e-06\n",
      "  3.76307363e-06  3.71039920e-06  3.66178309e-06  3.61693171e-06\n",
      "  3.57557040e-06  3.53744256e-06  3.50230866e-06  3.46994534e-06\n",
      "  3.44014454e-06  3.41271261e-06  3.38746944e-06  3.36424767e-06\n",
      "  3.34289190e-06  3.32325791e-06  3.30521200e-06  3.28863025e-06\n",
      "  3.27339788e-06  3.25940868e-06  3.24656436e-06  3.23477407e-06\n",
      "  3.22395384e-06  3.21402609e-06  3.20491922e-06  3.19656712e-06\n",
      "  3.18890883e-06  3.18188813e-06  3.17545320e-06  3.16955628e-06\n",
      "  3.16415339e-06  3.15920403e-06  3.15467094e-06  3.15051980e-06\n",
      "  3.14671907e-06  3.14323974e-06  3.14005513e-06  3.13714072e-06\n",
      "  3.13447400e-06  3.13203427e-06  3.12980252e-06  3.12776132e-06]\n"
     ]
    }
   ],
   "source": [
    "def computeDf( c , xi ):\n",
    "    Df = np.zeros( ( N, len(c) ) )\n",
    "    Df[:, 0] = 1\n",
    "    Df[:, 1] = e**(c3*xi)\n",
    "    Df[:, 2] = xi*c2*e**(c3*xi)\n",
    "    return Df\n",
    "\n",
    "    def GaussNewton(c0, xi, yiNew):\n",
    "        maxIter = 1000\n",
    "        tol = 0.01\n",
    "        Df = computeDf( c_0, xi )\n",
    "        f = func(xi, *c_0.T)\n",
    "        res = yiNew - f\n",
    "        i = 1\n",
    "        c= c_0\n",
    "        while(norm(Df.T @ res) > tol and i < maxIter):\n",
    "            c = c + ( ( inv(Df.T @ Df) ) @ ( Df.T @ (np.subtract( yiNew, f ) ) ) )\n",
    "            Df = computeDf( c , xi )\n",
    "            f = func(xi, *c.T)\n",
    "            res = yiNew - f\n",
    "            i += 1\n",
    "        return c, i, res\n",
    "print( 'parameters found:', c )\n",
    "print( \"\\nNumber of iterations done\", i )\n",
    "print(\"Residuals:\", res)"
   ]
  },
  {
   "cell_type": "markdown",
   "id": "297ff0eb",
   "metadata": {},
   "source": [
    "Paragraph on my findings changing N and the noise:\n",
    "\n",
    "I ran the code around 15 times, changing N's size and the amount of noise on yi. I've noticed that increasing these values had an impact on the number of iterations it took to reach the ideal parameters. Namely that increasing N decreased the amount of iterations needed, and increasing the noise increased the number of iterations needed. The opposite is also true (i.e. that decreasing N and decreasing noise had the opposite affect as what is described above.) I also noticed that when the noise becomes disruptive enough, the \n",
    "\n",
    "\n",
    "\n",
    "\n"
   ]
  },
  {
   "cell_type": "code",
   "execution_count": null,
   "id": "b18e3923",
   "metadata": {},
   "outputs": [],
   "source": []
  },
  {
   "cell_type": "code",
   "execution_count": null,
   "id": "05aeda56",
   "metadata": {},
   "outputs": [],
   "source": []
  }
 ],
 "metadata": {
  "kernelspec": {
   "display_name": "Python 3 (ipykernel)",
   "language": "python",
   "name": "python3"
  },
  "language_info": {
   "codemirror_mode": {
    "name": "ipython",
    "version": 3
   },
   "file_extension": ".py",
   "mimetype": "text/x-python",
   "name": "python",
   "nbconvert_exporter": "python",
   "pygments_lexer": "ipython3",
   "version": "3.9.7"
  }
 },
 "nbformat": 4,
 "nbformat_minor": 5
}
